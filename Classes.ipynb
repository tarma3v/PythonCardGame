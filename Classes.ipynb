{
 "cells": [
  {
   "cell_type": "code",
   "execution_count": 63,
   "metadata": {},
   "outputs": [],
   "source": [
    "class Card:\n",
    "    def __init__(self, deltas, text, name, isInstant = False):\n",
    "        self.deltas = deltas\n",
    "        self.text = text\n",
    "        self.name = name\n",
    "        self.isInstant = isInstant"
   ]
  },
  {
   "cell_type": "code",
   "execution_count": 76,
   "metadata": {},
   "outputs": [],
   "source": [
    "class Scale:\n",
    "    def __init__(self, current_value, upper_limit = 15):\n",
    "        self.current_value = current_value\n",
    "        self.__upper_limit = upper_limit\n",
    "    def updateCurrentValue(self, delta):\n",
    "        self.current_value += delta\n",
    "        #todo throw exception is necessary"
   ]
  },
  {
   "cell_type": "code",
   "execution_count": 66,
   "metadata": {},
   "outputs": [],
   "source": [
    "class CardDatabase:\n",
    "    def __init__(self):\n",
    "        self.cards = []\n",
    "        f = open(\"CardDatabase.txt\")\n",
    "        for line in f:\n",
    "            print(line)\n",
    "            str_deltas, text, name, isInstant = line.split(';')\n",
    "            deltas = [int(i) for i in str_deltas.split(', ')]\n",
    "            self.cards.append(Card(deltas, text, name, isInstant))"
   ]
  },
  {
   "cell_type": "code",
   "execution_count": null,
   "metadata": {},
   "outputs": [],
   "source": [
    "class State:\n",
    "    def __init__(self, hand, scale_values):\n",
    "        self.hand = hand\n",
    "        self.scale_values = scale_values\n",
    "    def applyEffect(card):\n",
    "        pass\n",
    "        "
   ]
  }
 ],
 "metadata": {
  "kernelspec": {
   "display_name": "Python 3",
   "language": "python",
   "name": "python3"
  },
  "language_info": {
   "codemirror_mode": {
    "name": "ipython",
    "version": 3
   },
   "file_extension": ".py",
   "mimetype": "text/x-python",
   "name": "python",
   "nbconvert_exporter": "python",
   "pygments_lexer": "ipython3",
   "version": "3.8.10"
  }
 },
 "nbformat": 4,
 "nbformat_minor": 4
}
